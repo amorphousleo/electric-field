{
 "cells": [
  {
   "cell_type": "markdown",
   "metadata": {},
   "source": [
    "# 3-D Electric Field Visualization\n",
    "This Notebook explores how the electric-field.py code works and visualizes the electric field in a 3-D plot due to the nuclear cores of the atoms. The final atom configuration is taken from a final relaxation step done in Quantum Espresso. The code calculates electric field over a grid of points that as default is taken as 80x80x80. The package ipyvolume is used for these 3-D visualizations."
   ]
  },
  {
   "cell_type": "code",
   "execution_count": 10,
   "metadata": {},
   "outputs": [],
   "source": [
    "import numpy as np\n",
    "import ipyvolume as ipv\n",
    "filename = \"D:/Github/electric-field/data/results/grid_efield.npy\"\n",
    "grid_efield = np.load(filename)\n",
    "grid_efield = grid_efield.reshape((80,80,80)).transpose()"
   ]
  },
  {
   "cell_type": "markdown",
   "metadata": {},
   "source": [
    "We reshape the grid_efield numpy file into the 3-D grid dimensions using reshape. Now it can be used in an argument for the quickvolshow command from ipyvolume. "
   ]
  },
  {
   "cell_type": "code",
   "execution_count": 12,
   "metadata": {},
   "outputs": [
    {
     "name": "stdout",
     "output_type": "stream",
     "text": [
      "(80, 80, 80)\n"
     ]
    }
   ],
   "source": [
    "#ipv.quickvolshow(grid_efield)"
   ]
  },
  {
   "cell_type": "markdown",
   "metadata": {},
   "source": [
    "## 2-D Visualization\n",
    "2-D visualization of the slices of the 3-D plot may be done by pcolor which offers the ability to have a 2-D color map with colors indicating the intensity of the electric field at that point. The variable 'N' allows us to choose which slice to visualize. The x and y variables create and arange for a meshgrid which is necessary for pcolor to operate. "
   ]
  },
  {
   "cell_type": "code",
   "execution_count": 14,
   "metadata": {},
   "outputs": [
    {
     "data": {
      "image/png": "[encoded data removed]",
      "text/plain": [
       "<Figure size 432x288 with 1 Axes>"
      ]
     },
     "metadata": {
      "needs_background": "light"
     },
     "output_type": "display_data"
    }
   ],
   "source": [
    "import matplotlib.pyplot as plt\n",
    "\n",
    "N = 1\n",
    "\n",
    "x = np.arange(0,15.341,.192)\n",
    "y = np.arange(0,15.341,.192)\n",
    "X, Y = np.meshgrid(x,y)\n",
    "\n",
    "\n",
    "plt.pcolor(X,Y,grid_efield[N])\n",
    "plt.show()"
   ]
  },
  {
   "cell_type": "markdown",
   "metadata": {},
   "source": [
    "## Plotting the Atomic Cell and Supercell\n",
    "For troubleshooting purpose, lets examine the cell and supercell by visualization. We would like to ensure that indeed the atoms are in the correct place. These structures came from the '.card_coords' which is in the pymatgen package. This is necessary to output a numpy array where each row has 3 columns associated with x,y and z coordinates. These can be decomposed into column vectors using split from numpy then flattening into 1-D vectors using ravel(). \n",
    "\n",
    "1. First plot the cell\n",
    "2. Next plot the supercell"
   ]
  },
  {
   "cell_type": "code",
   "execution_count": 29,
   "metadata": {},
   "outputs": [],
   "source": [
    "import numpy as np\n",
    "filename = \"D:/Github/electric-field/data/results/structure.npy\"\n",
    "coordinates = np.load(filename)\n",
    "\n",
    "xc,yc,zc = np.split(coordinates,3,1)   \n",
    "xc,yc,zc = xc.ravel(),yc.ravel(),zc.ravel()"
   ]
  },
  {
   "cell_type": "code",
   "execution_count": null,
   "metadata": {},
   "outputs": [],
   "source": [
    "ipv.quickscatter(xc,yc,zc, size =3, marker=\"sphere\")"
   ]
  },
  {
   "cell_type": "markdown",
   "metadata": {},
   "source": [
    "We will now plot the supercell, since the structure of the numpy array is different we must use the split from numpy to creates columns of x,y and z coordinates that can individually be plotted. ravel() function is used to flatten the array from 2-D to 1-D so that it has the right dimensions to be used in the quickscatter plot. "
   ]
  },
  {
   "cell_type": "code",
   "execution_count": 32,
   "metadata": {},
   "outputs": [
    {
     "name": "stdout",
     "output_type": "stream",
     "text": [
      "6912\n",
      "(6912, 3)\n"
     ]
    }
   ],
   "source": [
    "import numpy as np\n",
    "filename = \"D:/Github/electric-field/data/results/supercell_structure.npy\"\n",
    "centered_coordinates = np.load(filename)\n",
    "\n",
    "# We can assign the columns of the numpy array to new variables\n",
    "# x,y,z using numpy.split \n",
    "print(len(centered_coordinates))\n",
    "print(centered_coordinates.shape)\n",
    "x,y,z = np.split(centered_coordinates,3,1)     \n",
    "x,y,z = x.ravel(),y.ravel(),z.ravel()"
   ]
  },
  {
   "cell_type": "code",
   "execution_count": 33,
   "metadata": {},
   "outputs": [
    {
     "data": {
      "application/vnd.jupyter.widget-view+json": {
       "model_id": "8b53fc6d3a4b4026bfb40b6f01395e9c",
       "version_major": 2,
       "version_minor": 0
      },
      "text/plain": [
       "VBox(children=(Figure(camera=PerspectiveCamera(fov=46.0, position=(0.0, 0.0, 2.0), quaternion=(0.0, 0.0, 0.0, …"
      ]
     },
     "metadata": {},
     "output_type": "display_data"
    }
   ],
   "source": [
    "ipv.quickscatter(x,y,z, size =1, marker=\"sphere\")"
   ]
  },
  {
   "cell_type": "markdown",
   "metadata": {},
   "source": [
    "## Testing for understanding Electric field Calculation"
   ]
  },
  {
   "cell_type": "markdown",
   "metadata": {},
   "source": [
    "### Enumerate \n",
    "\n",
    "enumerate() is one of the built-in Python functions. It returns an enumerate object. \n",
    "Enumerate is simply used to provide the index number alongside item as it is iterated. This index start number may also be changed. "
   ]
  },
  {
   "cell_type": "code",
   "execution_count": 18,
   "metadata": {},
   "outputs": [
    {
     "data": {
      "text/plain": [
       "[(0, 'pizza'), (1, 'pasta'), (2, 'salad'), (3, 'nachos')]"
      ]
     },
     "execution_count": 18,
     "metadata": {},
     "output_type": "execute_result"
    }
   ],
   "source": [
    "choices = ['pizza', 'pasta', 'salad', 'nachos']\n",
    "list(enumerate(choices))\n"
   ]
  },
  {
   "cell_type": "code",
   "execution_count": 19,
   "metadata": {},
   "outputs": [
    {
     "name": "stdout",
     "output_type": "stream",
     "text": [
      "10 pizza\n",
      "11 pasta\n",
      "12 salad\n",
      "13 nachos\n"
     ]
    }
   ],
   "source": [
    "for idx, itm in enumerate(choices, start =10):\n",
    "    print(idx,itm)"
   ]
  },
  {
   "cell_type": "markdown",
   "metadata": {},
   "source": [
    "### Zip\n",
    "\n",
    "Zip makes an iterator that aggregates elements from each of the iterables. Essentially allowing one to combine two lists. It creates and iterator of tuples. "
   ]
  },
  {
   "cell_type": "code",
   "execution_count": 23,
   "metadata": {},
   "outputs": [
    {
     "name": "stdout",
     "output_type": "stream",
     "text": [
      "[('pizza', 1), ('pasta', 2), ('salad', 3), ('nachos', 4)]\n"
     ]
    }
   ],
   "source": [
    "#Example\n",
    "numbers = [1,2,3,4]\n",
    "\n",
    "#We need list to actually show the zip object\n",
    "print(list(zip(choices,numbers)))"
   ]
  },
  {
   "cell_type": "markdown",
   "metadata": {},
   "source": [
    "### Combining both concepts to produce:"
   ]
  },
  {
   "cell_type": "code",
   "execution_count": 24,
   "metadata": {},
   "outputs": [
    {
     "data": {
      "text/plain": [
       "[(0, ('pizza', 1)), (1, ('pasta', 2)), (2, ('salad', 3)), (3, ('nachos', 4))]"
      ]
     },
     "execution_count": 24,
     "metadata": {},
     "output_type": "execute_result"
    }
   ],
   "source": [
    "list(enumerate(zip(choices,numbers)))"
   ]
  },
  {
   "cell_type": "markdown",
   "metadata": {},
   "source": [
    "### Understanding grid_indicies variable from efield-code\n",
    "\n",
    "This variable uses kdtree.query_ball_point(x,r,p=2.0,eps=0)\n",
    "\n",
    "x: the point or points to search for neighbors of (array_like, shape tuple + self.m)\n",
    "\n",
    "r: the radius of points to return \n",
    "\n",
    "p: which minkowski p-norm to use\n",
    "\n",
    "Returns: (list or array of lists)\n",
    "If x is a single point, returns a list of the indicies of the neighbors of x. If x is an array of points, returns an object array of shape of tuple containg lists of neighbors. \n",
    "\n",
    "From Scipy: \n",
    "If you have many points whose neighbors you want to find, you may save substantial amounts of time by putting them in a KDTree and using query_ball_tree.\n"
   ]
  },
  {
   "cell_type": "markdown",
   "metadata": {},
   "source": [
    "In this example, we show how the query_ball_point from KDTree works.\n",
    "\n",
    "1. use mgrid for x and y to create a grid of points, it creates a 4x4 for both x and y\n",
    "2. next use ravel() to flatten the numpy array into a 1-d vector which is zipped to create a list of coordinates\n",
    "3. use spatial.KDtree and list out the zip object to create the KDTree\n",
    "4. use query_ball_point to do a neighbor search for one selected point within desired radius\n",
    "5. query_ball_point in this case returns the index of the point the fits the criteria\n"
   ]
  },
  {
   "cell_type": "code",
   "execution_count": 54,
   "metadata": {},
   "outputs": [
    {
     "data": {
      "text/plain": [
       "[0, 4, 5, 8, 9, 10, 12, 13]"
      ]
     },
     "execution_count": 54,
     "metadata": {},
     "output_type": "execute_result"
    }
   ],
   "source": [
    "from scipy import spatial\n",
    "x, y = np.mgrid[0:4, 0:4]\n",
    "\n",
    "points = zip(x.ravel(), y.ravel())\n",
    "\n",
    "\n",
    "tree = spatial.KDTree(list(points))\n",
    "\n",
    "\n",
    "tree.query_ball_point([2, 0], 2)\n",
    "\n"
   ]
  },
  {
   "cell_type": "code",
   "execution_count": 30,
   "metadata": {},
   "outputs": [
    {
     "name": "stdout",
     "output_type": "stream",
     "text": [
      "[[0 1 2 3 4]\n",
      " [5 6 7 8 9]]\n",
      "[0 1 2 3 4 5 6 7 8 9]\n"
     ]
    }
   ],
   "source": [
    "import numpy as np\n",
    "\n",
    "array = np.arange(10).reshape(2,5)\n",
    "print(array)\n",
    "print(array.ravel())"
   ]
  },
  {
   "cell_type": "markdown",
   "metadata": {},
   "source": [
    "## Understanding Pymatgen better\n",
    "In order to understand why the ipvolume plot of the 3x3x3 supercell looks off, we will attempt to learn more about how pymatgen works and visualize a 3x3x3 offset structure. "
   ]
  },
  {
   "cell_type": "code",
   "execution_count": null,
   "metadata": {},
   "outputs": [],
   "source": []
  }
 ],
 "metadata": {
  "kernelspec": {
   "display_name": "Python 3",
   "language": "python",
   "name": "python3"
  },
  "language_info": {
   "codemirror_mode": {
    "name": "ipython",
    "version": 3
   },
   "file_extension": ".py",
   "mimetype": "text/x-python",
   "name": "python",
   "nbconvert_exporter": "python",
   "pygments_lexer": "ipython3",
   "version": "3.7.0"
  }
 },
 "nbformat": 4,
 "nbformat_minor": 2
}
